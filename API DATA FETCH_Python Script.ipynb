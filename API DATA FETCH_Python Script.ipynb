{
 "cells": [
  {
   "cell_type": "code",
   "execution_count": 2,
   "id": "8e49abff-04a7-4d69-a7b6-b9fdf5d719c9",
   "metadata": {},
   "outputs": [
    {
     "name": "stdout",
     "output_type": "stream",
     "text": [
      "Requirement already satisfied: requests in c:\\users\\hp\\anaconda3\\lib\\site-packages (2.31.0)\n",
      "Requirement already satisfied: pyodbc in c:\\users\\hp\\anaconda3\\lib\\site-packages (5.0.1)\n",
      "Requirement already satisfied: charset-normalizer<4,>=2 in c:\\users\\hp\\anaconda3\\lib\\site-packages (from requests) (2.0.4)\n",
      "Requirement already satisfied: idna<4,>=2.5 in c:\\users\\hp\\anaconda3\\lib\\site-packages (from requests) (3.4)\n",
      "Requirement already satisfied: urllib3<3,>=1.21.1 in c:\\users\\hp\\anaconda3\\lib\\site-packages (from requests) (2.0.7)\n",
      "Requirement already satisfied: certifi>=2017.4.17 in c:\\users\\hp\\anaconda3\\lib\\site-packages (from requests) (2024.2.2)\n",
      "Note: you may need to restart the kernel to use updated packages.\n"
     ]
    }
   ],
   "source": [
    "pip install requests pyodbc"
   ]
  },
  {
   "cell_type": "code",
   "execution_count": 8,
   "id": "2279a5e5-2ca9-49f6-87e6-634681ace7cd",
   "metadata": {},
   "outputs": [],
   "source": [
    "import requests\n",
    "import pyodbc\n",
    "\n",
    "def fetch_api_data(url):\n",
    "    try:\n",
    "        response = requests.get(url)\n",
    "        response.raise_for_status()\n",
    "        return response.json()\n",
    "    except requests.exceptions.RequestException as e:\n",
    "        print(f\"Error fetching data from API: {e}\")\n",
    "        return None\n",
    "\n",
    "def insert_data_to_sql(data, conn):\n",
    "    try:\n",
    "        cursor = conn.cursor()\n",
    "        cursor.execute('''\n",
    "        IF NOT EXISTS (SELECT * FROM sysobjects WHERE name='api_data' and xtype='U')\n",
    "        CREATE TABLE api_data (\n",
    "            id INT PRIMARY KEY IDENTITY(1,1),\n",
    "            name NVARCHAR(255),\n",
    "            value FLOAT  -- Adjust data type based on your requirements\n",
    "        )\n",
    "        ''')\n",
    "\n",
    "        for item in data:\n",
    "            cursor.execute('''\n",
    "            INSERT INTO api_data (name, value) VALUES (?, ?)\n",
    "            ''', (item['name'], item['current_price']))  # Adjust key name as per your data structure\n",
    "\n",
    "        conn.commit()\n",
    "    except pyodbc.Error as e:\n",
    "        print(f\"Error inserting data into SQL Server: {e}\")\n",
    "\n",
    "def main():\n",
    "    url = 'https://api.coingecko.com/api/v3/coins/markets?vs_currency=usd'\n",
    "    data = fetch_api_data(url)\n",
    "    \n",
    "    if data:\n",
    "        try:\n",
    "            conn = pyodbc.connect(\n",
    "                'DRIVER={ODBC Driver 17 for SQL Server};'\n",
    "                'SERVER=localhost;'\n",
    "                'DATABASE=MyDatabase;'\n",
    "                'Trusted_Connection=yes;'\n",
    "            )\n",
    "            insert_data_to_sql(data, conn)\n",
    "        except pyodbc.Error as e:\n",
    "            print(f\"Error connecting to SQL Server: {e}\")\n",
    "        finally:\n",
    "            if 'conn' in locals() and conn:\n",
    "                conn.close()\n",
    "\n",
    "if __name__ == \"__main__\":\n",
    "    main()\n"
   ]
  },
  {
   "cell_type": "code",
   "execution_count": null,
   "id": "6a91a24b-92aa-4d70-bc3f-9603386835b0",
   "metadata": {},
   "outputs": [],
   "source": [
    "data = fetch_api_data(url)\n",
    "print(data)  # Add this line to inspect the structure of data"
   ]
  }
 ],
 "metadata": {
  "kernelspec": {
   "display_name": "Python 3 (ipykernel)",
   "language": "python",
   "name": "python3"
  },
  "language_info": {
   "codemirror_mode": {
    "name": "ipython",
    "version": 3
   },
   "file_extension": ".py",
   "mimetype": "text/x-python",
   "name": "python",
   "nbconvert_exporter": "python",
   "pygments_lexer": "ipython3",
   "version": "3.11.7"
  }
 },
 "nbformat": 4,
 "nbformat_minor": 5
}
